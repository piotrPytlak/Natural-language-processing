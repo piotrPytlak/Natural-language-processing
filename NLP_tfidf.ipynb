{
  "nbformat": 4,
  "nbformat_minor": 0,
  "metadata": {
    "colab": {
      "name": "piotr_pytlak_wcy18ij3s1_lab1_pjn.ipynb",
      "provenance": [],
      "collapsed_sections": []
    },
    "kernelspec": {
      "name": "python3",
      "display_name": "Python 3"
    },
    "language_info": {
      "name": "python"
    }
  },
  "cells": [
    {
      "cell_type": "markdown",
      "metadata": {
        "id": "7k83BA-FPW-G"
      },
      "source": [
        "#Pobranie i instalacja odpowiednich bibliotek"
      ]
    },
    {
      "cell_type": "code",
      "metadata": {
        "id": "aHKS6jNHxg6p"
      },
      "source": [
        "!wget -O - http://download.sgjp.pl/apt/sgjp.gpg.key|sudo apt-key add -\n",
        "!sudo apt-add-repository http://download.sgjp.pl/apt/ubuntu\n",
        "!sudo apt update\n",
        "!sudo apt install morfeusz2\n",
        "!sudo apt install python3-morfeusz2\n",
        "\n",
        "# instalacja spaCy\n",
        "!python3 -m pip install spacy\n",
        "\n",
        "# 1. instalacja modelu IPI PAN dla języka polskiego\n",
        "!wget \"http://zil.ipipan.waw.pl/SpacyPL?action=AttachFile&do=get&target=pl_spacy_model_morfeusz-0.1.3.tar.gz\"\n",
        "!mv 'SpacyPL?action=AttachFile&do=get&target=pl_spacy_model_morfeusz-0.1.3.tar.gz' pl_spacy_model_morfeusz-0.1.3.tar.gz\n",
        "!python3 -m pip install pl_spacy_model_morfeusz-0.1.3.tar.gz\n",
        "\n",
        "# linkowanie modelu do spaCy\n",
        "!python3 -m spacy link pl_spacy_model_morfeusz pl_spacy_model_morfeusz -f\n",
        "\n",
        "# 2. instalacja oficjalnego modelu spaCy\n",
        "!python3 -m spacy download pl_core_news_lg\n",
        "\n",
        "# dodatkowe zależności:\n",
        "!python3 -m pip install tqdm\n",
        "!python3 -m pip install networkx"
      ],
      "execution_count": null,
      "outputs": []
    },
    {
      "cell_type": "markdown",
      "metadata": {
        "id": "5lJysUGfPg8Z"
      },
      "source": [
        "#Import niezbędnych bibliotek"
      ]
    },
    {
      "cell_type": "code",
      "metadata": {
        "id": "wdp2N0O3yEJV"
      },
      "source": [
        "import spacy\n",
        "nlp = spacy.load(\"pl_spacy_model_morfeusz\") # IPI PAN\n",
        "import requests\n",
        "import urllib\n",
        "import matplotlib.pyplot as plt\n",
        "import pandas as pd\n",
        "import numpy as np\n",
        "import functools as fs\n",
        "import re\n",
        "from sklearn.decomposition import PCA \n",
        "from sklearn.feature_extraction.text import TfidfTransformer\n",
        "from sklearn.feature_extraction.text import CountVectorizer\n",
        "from sklearn.feature_extraction.text import TfidfVectorizer\n",
        "from sklearn.metrics.pairwise import linear_kernel\n"
      ],
      "execution_count": null,
      "outputs": []
    },
    {
      "cell_type": "markdown",
      "metadata": {
        "id": "ZBTD39zlPmhz"
      },
      "source": [
        "#<b>Utworzenie korpusu dokumenów</b> w postacie 5 książek pobranych z wolnelektury.pl\n"
      ]
    },
    {
      "cell_type": "code",
      "metadata": {
        "id": "7tEDy_mShquQ"
      },
      "source": [
        "url = [\n",
        "\"https://wolnelektury.pl/media/book/txt/dickens-opowiesc-wigilijna.txt\",\n",
        "\"https://wolnelektury.pl/media/book/txt/zaglada-domu-usherow.txt\",\n",
        "\"https://wolnelektury.pl/media/book/txt/nie-boska-komedia.txt\",\n",
        "\"https://wolnelektury.pl/media/book/txt/wesele.txt\",\n",
        "\"https://wolnelektury.pl/media/book/txt/kordian.txt\"]\n",
        "\n",
        "books = []\n",
        "books_inOne = []\n",
        "for lecture in url: \n",
        "    text = \"\"\n",
        "    file = urllib.request.urlopen(lecture)\n",
        "    for line in file:\n",
        "        decoded_line = line.decode(\"utf-8\").replace('\\n', ' ').replace('\\r',' ')\n",
        "        text+= decoded_line\n",
        "    books.append([text])\n",
        "  "
      ],
      "execution_count": null,
      "outputs": []
    },
    {
      "cell_type": "code",
      "metadata": {
        "id": "4c0FigP3CHzL"
      },
      "source": [
        "all_books = [(''.join((''.join(i) for i in books)))]"
      ],
      "execution_count": null,
      "outputs": []
    },
    {
      "cell_type": "markdown",
      "metadata": {
        "id": "JbUF_E_SO2Hm"
      },
      "source": [
        "# Zliczenie i przedstawienie <b>ilości wystąpień</b> poszczególnych słów we wszystkich dokumentach z korpusu."
      ]
    },
    {
      "cell_type": "markdown",
      "metadata": {
        "id": "bozwaPPdJEQ5"
      },
      "source": [
        "#Zdefiniowanie tokenizera \n",
        "* STOP LISTA\n",
        "* ZNAKI INTERPUKCYJNE"
      ]
    },
    {
      "cell_type": "code",
      "metadata": {
        "id": "VUD_uXNNXSZz"
      },
      "source": [
        "def spacy_tokenizer(document):\n",
        "  tokens = nlp(document)\n",
        "  tokens = [token.lemma_ for token in tokens if (\n",
        "      bool(re.search(r'^[A-Za-zżźćńółęąśŻŹĆĄŚĘŁÓŃ]*[A-Za-zżźćńółęąśŻŹĆĄŚĘŁÓŃ]$',token.lemma_)) and \\\n",
        "      token.is_stop == False and \\\n",
        "      token.is_punct == False )] \n",
        "  return tokens"
      ],
      "execution_count": null,
      "outputs": []
    },
    {
      "cell_type": "markdown",
      "metadata": {
        "id": "r9aFk3RQZSqq"
      },
      "source": [
        "#Dokonanie konwertyzacji kolekcji dokumentów tekstowych na macierz liczby tokenów - <b>CountVectorizer()</b>"
      ]
    },
    {
      "cell_type": "code",
      "metadata": {
        "id": "89iVUmFza7vi"
      },
      "source": [
        "countVectorizer = CountVectorizer(tokenizer=spacy_tokenizer)"
      ],
      "execution_count": null,
      "outputs": []
    },
    {
      "cell_type": "markdown",
      "metadata": {
        "id": "tWmbKNSibWgn"
      },
      "source": [
        "#Dla całego korpusu"
      ]
    },
    {
      "cell_type": "code",
      "metadata": {
        "id": "9Yn7CZ1gtbgZ"
      },
      "source": [
        "countVectorizer_all = CountVectorizer(tokenizer=spacy_tokenizer) #powoluje drugi raz aby oddzielic poszczegolne ksiazki od wszystkich\n",
        "\n",
        "freq_matrix = countVectorizer_all.fit_transform(all_books)\n",
        "freq_vect = pd.DataFrame(data = freq_matrix.toarray(), columns=countVectorizer_all.get_feature_names())\n"
      ],
      "execution_count": null,
      "outputs": []
    },
    {
      "cell_type": "code",
      "metadata": {
        "id": "CkRUydnM7PyR"
      },
      "source": [
        "wordRank = freq_vect.sum(axis= 0).rank(method='dense', ascending=False)\n"
      ],
      "execution_count": null,
      "outputs": []
    },
    {
      "cell_type": "markdown",
      "metadata": {
        "id": "Nwt47N-AayYk"
      },
      "source": [
        "#Częstość występowania tokenów dla każdej z pozycji"
      ]
    },
    {
      "cell_type": "markdown",
      "metadata": {
        "id": "97TAHFbqbRu1"
      },
      "source": [
        "**Dokument nr1**"
      ]
    },
    {
      "cell_type": "code",
      "metadata": {
        "colab": {
          "base_uri": "https://localhost:8080/",
          "height": 396
        },
        "id": "UOKNRsG0bN7w",
        "outputId": "47a13f1b-342c-4761-937e-4e050db6c113"
      },
      "source": [
        "freq_matrix_doc1 = countVectorizer.fit_transform(books[0])\n",
        "\n",
        "freq_vect_doc1 = pd.DataFrame(data = freq_matrix_doc1.toarray(), columns=countVectorizer.get_feature_names())\n",
        "print(freq_vect_doc1.head())\n",
        "\n",
        "transponed_doc1 = freq_vect_doc1.T\n",
        "transponed_doc1  = transponed_doc1.sort_values(by=[0], ascending=False)\n",
        "transponed_doc1[:30].plot.bar(legend=None)\n"
      ],
      "execution_count": null,
      "outputs": [
        {
          "output_type": "stream",
          "name": "stdout",
          "text": [
            "   Abel  Abraham  Aleksandra  Anda  Art  ...  żyć  żółty  żądanie  żądać  żądza\n",
            "0     1        1           1     1    1  ...   11      2        2      2      1\n",
            "\n",
            "[1 rows x 4447 columns]\n"
          ]
        },
        {
          "output_type": "execute_result",
          "data": {
            "text/plain": [
              "<matplotlib.axes._subplots.AxesSubplot at 0x7f87baab9050>"
            ]
          },
          "metadata": {},
          "execution_count": 12
        },
        {
          "output_type": "display_data",
          "data": {
            "image/png": "[encoded data removed]",
            "text/plain": [
              "<Figure size 432x288 with 1 Axes>"
            ]
          },
          "metadata": {
            "needs_background": "light"
          }
        }
      ]
    },
    {
      "cell_type": "code",
      "metadata": {
        "colab": {
          "base_uri": "https://localhost:8080/",
          "height": 328
        },
        "id": "GJBwStwt8dqo",
        "outputId": "0043fd3b-2cef-4e9c-8265-cba1fecb63dd"
      },
      "source": [
        " pd.DataFrame(data=[1.0/wordRank[word] for word in transponed_doc1.index], index=transponed_doc1.index, columns=['rank'])[:30]\\\n",
        " .plot.bar(legend=None)"
      ],
      "execution_count": null,
      "outputs": [
        {
          "output_type": "execute_result",
          "data": {
            "text/plain": [
              "<matplotlib.axes._subplots.AxesSubplot at 0x7f87bf8e6910>"
            ]
          },
          "metadata": {},
          "execution_count": 13
        },
        {
          "output_type": "display_data",
          "data": {
            "image/png": "[encoded data removed]",
            "text/plain": [
              "<Figure size 432x288 with 1 Axes>"
            ]
          },
          "metadata": {
            "needs_background": "light"
          }
        }
      ]
    },
    {
      "cell_type": "markdown",
      "metadata": {
        "id": "foCKgM3QbZe-"
      },
      "source": [
        "**Dokument nr2**"
      ]
    },
    {
      "cell_type": "code",
      "metadata": {
        "colab": {
          "base_uri": "https://localhost:8080/",
          "height": 390
        },
        "id": "FUdP18Wgbgho",
        "outputId": "60c5b29e-6b9a-4fc7-d7a8-b8c84222f8ac"
      },
      "source": [
        "freq_matrix_doc2 = countVectorizer.fit_transform(books[1])\n",
        "\n",
        "freq_vect_doc2 = pd.DataFrame(data = freq_matrix_doc2.toarray(), columns=countVectorizer.get_feature_names())\n",
        "print(freq_vect_doc2.head())\n",
        "\n",
        "transponed_doc2 = freq_vect_doc2.T\n",
        "transponed_doc2  = transponed_doc2.sort_values(by=[0], ascending=False)\n",
        "transponed_doc2[:30].plot.bar(legend=None)\n"
      ],
      "execution_count": null,
      "outputs": [
        {
          "output_type": "stream",
          "name": "stdout",
          "text": [
            "   Aleksandra  Allan  BN  Bolesław  Edgar  ...  żywiec  żywotny  żywy  żyć  żądza\n",
            "0           1      2   1         1      2  ...       1        1     1    1      1\n",
            "\n",
            "[1 rows x 1920 columns]\n"
          ]
        },
        {
          "output_type": "execute_result",
          "data": {
            "text/plain": [
              "<matplotlib.axes._subplots.AxesSubplot at 0x7f87bc6481d0>"
            ]
          },
          "metadata": {},
          "execution_count": 14
        },
        {
          "output_type": "display_data",
          "data": {
            "image/png": "[encoded data removed]",
            "text/plain": [
              "<Figure size 432x288 with 1 Axes>"
            ]
          },
          "metadata": {
            "needs_background": "light"
          }
        }
      ]
    },
    {
      "cell_type": "code",
      "metadata": {
        "colab": {
          "base_uri": "https://localhost:8080/",
          "height": 322
        },
        "id": "S9IV61s_Ll_b",
        "outputId": "157ce08d-83a9-460e-d42d-1209e4364e11"
      },
      "source": [
        " pd.DataFrame(data=[1.0/wordRank[word] for word in transponed_doc2.index], index=transponed_doc2.index, columns=['rank'])[:30]\\\n",
        " .plot.bar(legend=None)"
      ],
      "execution_count": null,
      "outputs": [
        {
          "output_type": "execute_result",
          "data": {
            "text/plain": [
              "<matplotlib.axes._subplots.AxesSubplot at 0x7f87be876750>"
            ]
          },
          "metadata": {},
          "execution_count": 15
        },
        {
          "output_type": "display_data",
          "data": {
            "image/png": "[encoded data removed]",
            "text/plain": [
              "<Figure size 432x288 with 1 Axes>"
            ]
          },
          "metadata": {
            "needs_background": "light"
          }
        }
      ]
    },
    {
      "cell_type": "markdown",
      "metadata": {
        "id": "BrdPqtlPbafh"
      },
      "source": [
        "**Dokument nr3**"
      ]
    },
    {
      "cell_type": "code",
      "metadata": {
        "colab": {
          "base_uri": "https://localhost:8080/",
          "height": 393
        },
        "id": "IXbGyHfKbg55",
        "outputId": "060eea6d-4f52-42d7-cb73-fe320122b20f"
      },
      "source": [
        "freq_matrix_doc3 = countVectorizer.fit_transform(books[2])\n",
        "\n",
        "freq_vect_doc3 = pd.DataFrame(data = freq_matrix_doc3.toarray(), columns=countVectorizer.get_feature_names())\n",
        "print(freq_vect_doc3.head())\n",
        "\n",
        "transponed_doc3 = freq_vect_doc3.T\n",
        "transponed_doc3  = transponed_doc3.sort_values(by=[0], ascending=False)\n",
        "transponed_doc3[:30].plot.bar(legend=None)\n"
      ],
      "execution_count": null,
      "outputs": [
        {
          "output_type": "stream",
          "name": "stdout",
          "text": [
            "   Abraham  Adam  Aleksander  Aleksandra  BN  ...  żyć  żółtawo  żółty  żądać  żądza\n",
            "0        1     2           2           1   1  ...   30        1      1      6      1\n",
            "\n",
            "[1 rows x 3069 columns]\n"
          ]
        },
        {
          "output_type": "execute_result",
          "data": {
            "text/plain": [
              "<matplotlib.axes._subplots.AxesSubplot at 0x7f87c9acda90>"
            ]
          },
          "metadata": {},
          "execution_count": 16
        },
        {
          "output_type": "display_data",
          "data": {
            "image/png": "[encoded data removed]",
            "text/plain": [
              "<Figure size 432x288 with 1 Axes>"
            ]
          },
          "metadata": {
            "needs_background": "light"
          }
        }
      ]
    },
    {
      "cell_type": "code",
      "metadata": {
        "colab": {
          "base_uri": "https://localhost:8080/",
          "height": 325
        },
        "id": "S_RSmnypLwMc",
        "outputId": "c8591573-618d-4380-b7f1-21db7e82acfc"
      },
      "source": [
        " pd.DataFrame(data=[1.0/wordRank[word] for word in transponed_doc3.index], index=transponed_doc3.index, columns=['rank'])[:30]\\\n",
        " .plot.bar(legend=None)"
      ],
      "execution_count": null,
      "outputs": [
        {
          "output_type": "execute_result",
          "data": {
            "text/plain": [
              "<matplotlib.axes._subplots.AxesSubplot at 0x7f87bf8a8ad0>"
            ]
          },
          "metadata": {},
          "execution_count": 17
        },
        {
          "output_type": "display_data",
          "data": {
            "image/png": "[encoded data removed]",
            "text/plain": [
              "<Figure size 432x288 with 1 Axes>"
            ]
          },
          "metadata": {
            "needs_background": "light"
          }
        }
      ]
    },
    {
      "cell_type": "markdown",
      "metadata": {
        "id": "M9yi2MRSbcPc"
      },
      "source": [
        "**Dokument nr4**"
      ]
    },
    {
      "cell_type": "code",
      "metadata": {
        "colab": {
          "base_uri": "https://localhost:8080/",
          "height": 397
        },
        "id": "kvk4kXIAbdid",
        "outputId": "725083e7-c541-4553-af79-4760f98041b6"
      },
      "source": [
        "freq_matrix_doc4 = countVectorizer.fit_transform(books[3])\n",
        "\n",
        "freq_vect_doc4 = pd.DataFrame(data = freq_matrix_doc4.toarray(), columns=countVectorizer.get_feature_names())\n",
        "print(freq_vect_doc4.head())\n",
        "\n",
        "transponed_doc4 = freq_vect_doc4.T\n",
        "transponed_doc4  = transponed_doc4.sort_values(by=[0], ascending=False)\n",
        "transponed_doc4[:30].plot.bar(legend=None)\n"
      ],
      "execution_count": null,
      "outputs": [
        {
          "output_type": "stream",
          "name": "stdout",
          "text": [
            "   Al  Aleksandra  Ante  BN  Beda  ...  żyć  żądać  żądza  żłopają  żłopać\n",
            "0   1           1     1   1     2  ...   17      1      1        1       1\n",
            "\n",
            "[1 rows x 4163 columns]\n"
          ]
        },
        {
          "output_type": "execute_result",
          "data": {
            "text/plain": [
              "<matplotlib.axes._subplots.AxesSubplot at 0x7f87c8435350>"
            ]
          },
          "metadata": {},
          "execution_count": 18
        },
        {
          "output_type": "display_data",
          "data": {
            "image/png": "[encoded data removed]",
            "text/plain": [
              "<Figure size 432x288 with 1 Axes>"
            ]
          },
          "metadata": {
            "needs_background": "light"
          }
        }
      ]
    },
    {
      "cell_type": "code",
      "metadata": {
        "colab": {
          "base_uri": "https://localhost:8080/",
          "height": 329
        },
        "id": "fDdIyJ3EL3PR",
        "outputId": "2884c344-2eeb-405a-9884-79938b3f6ab4"
      },
      "source": [
        " pd.DataFrame(data=[1.0/wordRank[word] for word in transponed_doc4.index], index=transponed_doc4.index, columns=['rank'])[:30]\\\n",
        " .plot.bar(legend=None)"
      ],
      "execution_count": null,
      "outputs": [
        {
          "output_type": "execute_result",
          "data": {
            "text/plain": [
              "<matplotlib.axes._subplots.AxesSubplot at 0x7f87b7e0c910>"
            ]
          },
          "metadata": {},
          "execution_count": 19
        },
        {
          "output_type": "display_data",
          "data": {
            "image/png": "[encoded data removed]",
            "text/plain": [
              "<Figure size 432x288 with 1 Axes>"
            ]
          },
          "metadata": {
            "needs_background": "light"
          }
        }
      ]
    },
    {
      "cell_type": "markdown",
      "metadata": {
        "id": "zG3rcjENbeHE"
      },
      "source": [
        "**Dokument nr5**"
      ]
    },
    {
      "cell_type": "code",
      "metadata": {
        "colab": {
          "base_uri": "https://localhost:8080/",
          "height": 385
        },
        "id": "CWBDRG6-bqki",
        "outputId": "07f7c873-40c6-45b2-da97-2372a17acd5d"
      },
      "source": [
        "freq_matrix_doc5 = countVectorizer.fit_transform(books[4])\n",
        "freq_vect_doc5 = pd.DataFrame(data = freq_matrix_doc5.toarray(), columns=countVectorizer.get_feature_names())\n",
        "print(freq_vect_doc5.head())\n",
        "\n",
        "transponed_doc5 = freq_vect_doc5.T\n",
        "transponed_doc5  = transponed_doc5.sort_values(by=[0], ascending=False)\n",
        "transponed_doc5[:30].plot.bar(legend=None)\n"
      ],
      "execution_count": null,
      "outputs": [
        {
          "output_type": "stream",
          "name": "stdout",
          "text": [
            "   Adam  Afryka  Aleksandra  Anna  Antoniusz  ...  żółw  żółć  żądać  żądza  żądło\n",
            "0     3       1           1     1          1  ...     1     1      2      2      2\n",
            "\n",
            "[1 rows x 3841 columns]\n"
          ]
        },
        {
          "output_type": "execute_result",
          "data": {
            "text/plain": [
              "<matplotlib.axes._subplots.AxesSubplot at 0x7f87c67d3390>"
            ]
          },
          "metadata": {},
          "execution_count": 20
        },
        {
          "output_type": "display_data",
          "data": {
            "image/png": "[encoded data removed]",
            "text/plain": [
              "<Figure size 432x288 with 1 Axes>"
            ]
          },
          "metadata": {
            "needs_background": "light"
          }
        }
      ]
    },
    {
      "cell_type": "code",
      "metadata": {
        "colab": {
          "base_uri": "https://localhost:8080/",
          "height": 317
        },
        "id": "dO45vN8cL8R3",
        "outputId": "9279367c-346e-47a7-8bab-ecaef7b169be"
      },
      "source": [
        " pd.DataFrame(data=[1.0/wordRank[word] for word in transponed_doc5.index], index=transponed_doc5.index, columns=['rank'])[:30]\\\n",
        " .plot.bar(legend=None)"
      ],
      "execution_count": null,
      "outputs": [
        {
          "output_type": "execute_result",
          "data": {
            "text/plain": [
              "<matplotlib.axes._subplots.AxesSubplot at 0x7f87b9eb15d0>"
            ]
          },
          "metadata": {},
          "execution_count": 21
        },
        {
          "output_type": "display_data",
          "data": {
            "image/png": "[encoded data removed]",
            "text/plain": [
              "<Figure size 432x288 with 1 Axes>"
            ]
          },
          "metadata": {
            "needs_background": "light"
          }
        }
      ]
    },
    {
      "cell_type": "markdown",
      "metadata": {
        "id": "Sqa-lXTMZTdF"
      },
      "source": [
        "**Komentarz**: Na podstawie utworzonych wykresow bazujacych na poszczegolnych ksiazkach oraz na korpusie skladajacym sie z 5 książek doszedłem do kilku wniosków. \n",
        "* Wykresy wykonane dla 30 topowych wyrazow dla danej ksiazki mają tendencje spadkowa aczkolwiek w przypadku wykresu 1/ranking nie jest ona tak wyrazna jak w przypadku zliczaniu slow. Mozna zauwazyc korelacje pomiedzy wykresami co w mojej opini potwierdza prawo Zipfa. Niestety nie jest to silnie widoczne dla żadnej z wybranych książek. Wpływ na taki stan rzeczy może mieć wiele czynników takich jak np. stworzenie korpusu z książek mocno różniących się od siebie (np pod wzgledem epoki, stylu, itp).\n",
        "* Powyzsza obserwacja odnosni sie do kazdej z 5 pozycji.\n",
        "* Slowo 'być' jest najczęściej powtarzajacym sie slowem niemal w każdej książce.\n",
        "* Najbardziej 'niepasujacymi' slowami są wszelkiego rodzaju słowa specyficzne dla danej książki jak imiona, nazwiska itp. \n"
      ]
    },
    {
      "cell_type": "markdown",
      "metadata": {
        "id": "_Kslq0teLCfO"
      },
      "source": [
        "#Utworzenie macierzy <b>podobieństwa kosinusowego</b> dokumentów"
      ]
    },
    {
      "cell_type": "code",
      "metadata": {
        "id": "k7dXMS1HSX6L"
      },
      "source": [
        "flat_books = [item for sublist in books for item in sublist]"
      ],
      "execution_count": null,
      "outputs": []
    },
    {
      "cell_type": "code",
      "metadata": {
        "id": "1lSdtazTRwKG"
      },
      "source": [
        "countVectorizer = CountVectorizer(tokenizer=spacy_tokenizer) #powoluje drugi raz aby oddzielic poszczegolne ksiazki od wszystkich\n",
        "freq_matrix_end = countVectorizer.fit_transform(flat_books)\n",
        "freq_vect = pd.DataFrame(data = freq_matrix_end.toarray(), columns=countVectorizer.get_feature_names())\n"
      ],
      "execution_count": null,
      "outputs": []
    },
    {
      "cell_type": "code",
      "metadata": {
        "colab": {
          "base_uri": "https://localhost:8080/",
          "height": 253
        },
        "id": "wls44D-XUR6n",
        "outputId": "4c3256b7-968c-4a53-a556-23a2d64cce35"
      },
      "source": [
        "freq_vect"
      ],
      "execution_count": null,
      "outputs": [
        {
          "output_type": "execute_result",
          "data": {
            "text/html": [
              "<div>\n",
              "<style scoped>\n",
              "    .dataframe tbody tr th:only-of-type {\n",
              "        vertical-align: middle;\n",
              "    }\n",
              "\n",
              "    .dataframe tbody tr th {\n",
              "        vertical-align: top;\n",
              "    }\n",
              "\n",
              "    .dataframe thead th {\n",
              "        text-align: right;\n",
              "    }\n",
              "</style>\n",
              "<table border=\"1\" class=\"dataframe\">\n",
              "  <thead>\n",
              "    <tr style=\"text-align: right;\">\n",
              "      <th></th>\n",
              "      <th>Abel</th>\n",
              "      <th>Abraham</th>\n",
              "      <th>Adam</th>\n",
              "      <th>Afryka</th>\n",
              "      <th>Al</th>\n",
              "      <th>Aleksander</th>\n",
              "      <th>Aleksandra</th>\n",
              "      <th>Allan</th>\n",
              "      <th>Anda</th>\n",
              "      <th>Anna</th>\n",
              "      <th>Ante</th>\n",
              "      <th>Antoniusz</th>\n",
              "      <th>Art</th>\n",
              "      <th>BN</th>\n",
              "      <th>Balladyna</th>\n",
              "      <th>Baltazar</th>\n",
              "      <th>Baszkir</th>\n",
              "      <th>Beda</th>\n",
              "      <th>Bella</th>\n",
              "      <th>Berno</th>\n",
              "      <th>Białe</th>\n",
              "      <th>Biega</th>\n",
              "      <th>Blanc</th>\n",
              "      <th>Bob</th>\n",
              "      <th>Bogarodzica</th>\n",
              "      <th>Bolesław</th>\n",
              "      <th>Bonaparte</th>\n",
              "      <th>Boże</th>\n",
              "      <th>Branecki</th>\n",
              "      <th>Brutus</th>\n",
              "      <th>Błażek</th>\n",
              "      <th>CAF</th>\n",
              "      <th>Cała</th>\n",
              "      <th>Charles</th>\n",
              "      <th>Chopin</th>\n",
              "      <th>Choromańska</th>\n",
              "      <th>Chrystus</th>\n",
              "      <th>Ciężkie</th>\n",
              "      <th>Crusoe</th>\n",
              "      <th>Cyla</th>\n",
              "      <th>...</th>\n",
              "      <th>żurawiec</th>\n",
              "      <th>żuć</th>\n",
              "      <th>żwir</th>\n",
              "      <th>życie</th>\n",
              "      <th>życiowy</th>\n",
              "      <th>życzenie</th>\n",
              "      <th>życzliwie</th>\n",
              "      <th>życzliwość</th>\n",
              "      <th>życzliwy</th>\n",
              "      <th>życzyć</th>\n",
              "      <th>żyd</th>\n",
              "      <th>żydowski</th>\n",
              "      <th>żyjący</th>\n",
              "      <th>żyrdź</th>\n",
              "      <th>żyto</th>\n",
              "      <th>żywie</th>\n",
              "      <th>żywiec</th>\n",
              "      <th>żywioł</th>\n",
              "      <th>żywiuteńki</th>\n",
              "      <th>żywić</th>\n",
              "      <th>żywnie</th>\n",
              "      <th>żywność</th>\n",
              "      <th>żywo</th>\n",
              "      <th>żywot</th>\n",
              "      <th>żywotny</th>\n",
              "      <th>żywość</th>\n",
              "      <th>żywy</th>\n",
              "      <th>żyzny</th>\n",
              "      <th>żyć</th>\n",
              "      <th>żyźnić</th>\n",
              "      <th>żółtawo</th>\n",
              "      <th>żółty</th>\n",
              "      <th>żółw</th>\n",
              "      <th>żółć</th>\n",
              "      <th>żądanie</th>\n",
              "      <th>żądać</th>\n",
              "      <th>żądza</th>\n",
              "      <th>żądło</th>\n",
              "      <th>żłopają</th>\n",
              "      <th>żłopać</th>\n",
              "    </tr>\n",
              "  </thead>\n",
              "  <tbody>\n",
              "    <tr>\n",
              "      <th>0</th>\n",
              "      <td>1</td>\n",
              "      <td>1</td>\n",
              "      <td>0</td>\n",
              "      <td>0</td>\n",
              "      <td>0</td>\n",
              "      <td>0</td>\n",
              "      <td>1</td>\n",
              "      <td>0</td>\n",
              "      <td>1</td>\n",
              "      <td>0</td>\n",
              "      <td>0</td>\n",
              "      <td>0</td>\n",
              "      <td>1</td>\n",
              "      <td>0</td>\n",
              "      <td>0</td>\n",
              "      <td>1</td>\n",
              "      <td>0</td>\n",
              "      <td>0</td>\n",
              "      <td>1</td>\n",
              "      <td>0</td>\n",
              "      <td>0</td>\n",
              "      <td>0</td>\n",
              "      <td>0</td>\n",
              "      <td>43</td>\n",
              "      <td>0</td>\n",
              "      <td>0</td>\n",
              "      <td>0</td>\n",
              "      <td>0</td>\n",
              "      <td>0</td>\n",
              "      <td>0</td>\n",
              "      <td>0</td>\n",
              "      <td>0</td>\n",
              "      <td>0</td>\n",
              "      <td>2</td>\n",
              "      <td>0</td>\n",
              "      <td>1</td>\n",
              "      <td>0</td>\n",
              "      <td>0</td>\n",
              "      <td>2</td>\n",
              "      <td>0</td>\n",
              "      <td>...</td>\n",
              "      <td>0</td>\n",
              "      <td>0</td>\n",
              "      <td>0</td>\n",
              "      <td>43</td>\n",
              "      <td>1</td>\n",
              "      <td>8</td>\n",
              "      <td>2</td>\n",
              "      <td>1</td>\n",
              "      <td>2</td>\n",
              "      <td>17</td>\n",
              "      <td>0</td>\n",
              "      <td>0</td>\n",
              "      <td>1</td>\n",
              "      <td>0</td>\n",
              "      <td>0</td>\n",
              "      <td>0</td>\n",
              "      <td>0</td>\n",
              "      <td>0</td>\n",
              "      <td>1</td>\n",
              "      <td>1</td>\n",
              "      <td>1</td>\n",
              "      <td>0</td>\n",
              "      <td>3</td>\n",
              "      <td>0</td>\n",
              "      <td>0</td>\n",
              "      <td>1</td>\n",
              "      <td>2</td>\n",
              "      <td>0</td>\n",
              "      <td>11</td>\n",
              "      <td>0</td>\n",
              "      <td>0</td>\n",
              "      <td>2</td>\n",
              "      <td>0</td>\n",
              "      <td>0</td>\n",
              "      <td>2</td>\n",
              "      <td>2</td>\n",
              "      <td>1</td>\n",
              "      <td>0</td>\n",
              "      <td>0</td>\n",
              "      <td>0</td>\n",
              "    </tr>\n",
              "    <tr>\n",
              "      <th>1</th>\n",
              "      <td>0</td>\n",
              "      <td>0</td>\n",
              "      <td>0</td>\n",
              "      <td>0</td>\n",
              "      <td>0</td>\n",
              "      <td>0</td>\n",
              "      <td>1</td>\n",
              "      <td>2</td>\n",
              "      <td>0</td>\n",
              "      <td>0</td>\n",
              "      <td>0</td>\n",
              "      <td>0</td>\n",
              "      <td>0</td>\n",
              "      <td>1</td>\n",
              "      <td>0</td>\n",
              "      <td>0</td>\n",
              "      <td>0</td>\n",
              "      <td>0</td>\n",
              "      <td>0</td>\n",
              "      <td>0</td>\n",
              "      <td>0</td>\n",
              "      <td>0</td>\n",
              "      <td>0</td>\n",
              "      <td>0</td>\n",
              "      <td>0</td>\n",
              "      <td>1</td>\n",
              "      <td>0</td>\n",
              "      <td>0</td>\n",
              "      <td>0</td>\n",
              "      <td>0</td>\n",
              "      <td>0</td>\n",
              "      <td>0</td>\n",
              "      <td>0</td>\n",
              "      <td>0</td>\n",
              "      <td>0</td>\n",
              "      <td>0</td>\n",
              "      <td>0</td>\n",
              "      <td>0</td>\n",
              "      <td>0</td>\n",
              "      <td>0</td>\n",
              "      <td>...</td>\n",
              "      <td>0</td>\n",
              "      <td>0</td>\n",
              "      <td>0</td>\n",
              "      <td>2</td>\n",
              "      <td>1</td>\n",
              "      <td>0</td>\n",
              "      <td>0</td>\n",
              "      <td>0</td>\n",
              "      <td>0</td>\n",
              "      <td>0</td>\n",
              "      <td>0</td>\n",
              "      <td>0</td>\n",
              "      <td>0</td>\n",
              "      <td>0</td>\n",
              "      <td>0</td>\n",
              "      <td>0</td>\n",
              "      <td>1</td>\n",
              "      <td>0</td>\n",
              "      <td>0</td>\n",
              "      <td>0</td>\n",
              "      <td>0</td>\n",
              "      <td>0</td>\n",
              "      <td>0</td>\n",
              "      <td>0</td>\n",
              "      <td>1</td>\n",
              "      <td>0</td>\n",
              "      <td>1</td>\n",
              "      <td>0</td>\n",
              "      <td>1</td>\n",
              "      <td>0</td>\n",
              "      <td>0</td>\n",
              "      <td>0</td>\n",
              "      <td>0</td>\n",
              "      <td>0</td>\n",
              "      <td>0</td>\n",
              "      <td>0</td>\n",
              "      <td>1</td>\n",
              "      <td>0</td>\n",
              "      <td>0</td>\n",
              "      <td>0</td>\n",
              "    </tr>\n",
              "    <tr>\n",
              "      <th>2</th>\n",
              "      <td>0</td>\n",
              "      <td>1</td>\n",
              "      <td>2</td>\n",
              "      <td>0</td>\n",
              "      <td>0</td>\n",
              "      <td>2</td>\n",
              "      <td>1</td>\n",
              "      <td>0</td>\n",
              "      <td>0</td>\n",
              "      <td>0</td>\n",
              "      <td>0</td>\n",
              "      <td>0</td>\n",
              "      <td>0</td>\n",
              "      <td>1</td>\n",
              "      <td>0</td>\n",
              "      <td>0</td>\n",
              "      <td>0</td>\n",
              "      <td>0</td>\n",
              "      <td>0</td>\n",
              "      <td>0</td>\n",
              "      <td>0</td>\n",
              "      <td>0</td>\n",
              "      <td>0</td>\n",
              "      <td>0</td>\n",
              "      <td>2</td>\n",
              "      <td>0</td>\n",
              "      <td>0</td>\n",
              "      <td>0</td>\n",
              "      <td>0</td>\n",
              "      <td>1</td>\n",
              "      <td>0</td>\n",
              "      <td>0</td>\n",
              "      <td>0</td>\n",
              "      <td>0</td>\n",
              "      <td>0</td>\n",
              "      <td>0</td>\n",
              "      <td>5</td>\n",
              "      <td>0</td>\n",
              "      <td>0</td>\n",
              "      <td>0</td>\n",
              "      <td>...</td>\n",
              "      <td>0</td>\n",
              "      <td>0</td>\n",
              "      <td>1</td>\n",
              "      <td>24</td>\n",
              "      <td>0</td>\n",
              "      <td>2</td>\n",
              "      <td>0</td>\n",
              "      <td>0</td>\n",
              "      <td>0</td>\n",
              "      <td>3</td>\n",
              "      <td>5</td>\n",
              "      <td>0</td>\n",
              "      <td>1</td>\n",
              "      <td>0</td>\n",
              "      <td>0</td>\n",
              "      <td>0</td>\n",
              "      <td>1</td>\n",
              "      <td>0</td>\n",
              "      <td>0</td>\n",
              "      <td>0</td>\n",
              "      <td>0</td>\n",
              "      <td>1</td>\n",
              "      <td>0</td>\n",
              "      <td>0</td>\n",
              "      <td>1</td>\n",
              "      <td>0</td>\n",
              "      <td>6</td>\n",
              "      <td>0</td>\n",
              "      <td>30</td>\n",
              "      <td>0</td>\n",
              "      <td>1</td>\n",
              "      <td>1</td>\n",
              "      <td>0</td>\n",
              "      <td>0</td>\n",
              "      <td>0</td>\n",
              "      <td>6</td>\n",
              "      <td>1</td>\n",
              "      <td>0</td>\n",
              "      <td>0</td>\n",
              "      <td>0</td>\n",
              "    </tr>\n",
              "    <tr>\n",
              "      <th>3</th>\n",
              "      <td>0</td>\n",
              "      <td>0</td>\n",
              "      <td>0</td>\n",
              "      <td>0</td>\n",
              "      <td>1</td>\n",
              "      <td>0</td>\n",
              "      <td>1</td>\n",
              "      <td>0</td>\n",
              "      <td>0</td>\n",
              "      <td>0</td>\n",
              "      <td>1</td>\n",
              "      <td>0</td>\n",
              "      <td>0</td>\n",
              "      <td>1</td>\n",
              "      <td>0</td>\n",
              "      <td>0</td>\n",
              "      <td>0</td>\n",
              "      <td>2</td>\n",
              "      <td>0</td>\n",
              "      <td>1</td>\n",
              "      <td>0</td>\n",
              "      <td>1</td>\n",
              "      <td>0</td>\n",
              "      <td>0</td>\n",
              "      <td>1</td>\n",
              "      <td>0</td>\n",
              "      <td>1</td>\n",
              "      <td>1</td>\n",
              "      <td>3</td>\n",
              "      <td>0</td>\n",
              "      <td>1</td>\n",
              "      <td>1</td>\n",
              "      <td>1</td>\n",
              "      <td>0</td>\n",
              "      <td>1</td>\n",
              "      <td>0</td>\n",
              "      <td>0</td>\n",
              "      <td>1</td>\n",
              "      <td>0</td>\n",
              "      <td>2</td>\n",
              "      <td>...</td>\n",
              "      <td>2</td>\n",
              "      <td>1</td>\n",
              "      <td>0</td>\n",
              "      <td>6</td>\n",
              "      <td>0</td>\n",
              "      <td>0</td>\n",
              "      <td>0</td>\n",
              "      <td>0</td>\n",
              "      <td>0</td>\n",
              "      <td>3</td>\n",
              "      <td>50</td>\n",
              "      <td>1</td>\n",
              "      <td>0</td>\n",
              "      <td>1</td>\n",
              "      <td>1</td>\n",
              "      <td>2</td>\n",
              "      <td>0</td>\n",
              "      <td>0</td>\n",
              "      <td>0</td>\n",
              "      <td>1</td>\n",
              "      <td>0</td>\n",
              "      <td>0</td>\n",
              "      <td>6</td>\n",
              "      <td>0</td>\n",
              "      <td>0</td>\n",
              "      <td>0</td>\n",
              "      <td>14</td>\n",
              "      <td>0</td>\n",
              "      <td>17</td>\n",
              "      <td>0</td>\n",
              "      <td>0</td>\n",
              "      <td>0</td>\n",
              "      <td>0</td>\n",
              "      <td>0</td>\n",
              "      <td>0</td>\n",
              "      <td>1</td>\n",
              "      <td>1</td>\n",
              "      <td>0</td>\n",
              "      <td>1</td>\n",
              "      <td>1</td>\n",
              "    </tr>\n",
              "    <tr>\n",
              "      <th>4</th>\n",
              "      <td>0</td>\n",
              "      <td>0</td>\n",
              "      <td>3</td>\n",
              "      <td>1</td>\n",
              "      <td>0</td>\n",
              "      <td>0</td>\n",
              "      <td>1</td>\n",
              "      <td>0</td>\n",
              "      <td>0</td>\n",
              "      <td>1</td>\n",
              "      <td>0</td>\n",
              "      <td>1</td>\n",
              "      <td>0</td>\n",
              "      <td>1</td>\n",
              "      <td>1</td>\n",
              "      <td>1</td>\n",
              "      <td>4</td>\n",
              "      <td>0</td>\n",
              "      <td>0</td>\n",
              "      <td>0</td>\n",
              "      <td>1</td>\n",
              "      <td>0</td>\n",
              "      <td>1</td>\n",
              "      <td>0</td>\n",
              "      <td>0</td>\n",
              "      <td>0</td>\n",
              "      <td>0</td>\n",
              "      <td>0</td>\n",
              "      <td>0</td>\n",
              "      <td>0</td>\n",
              "      <td>0</td>\n",
              "      <td>0</td>\n",
              "      <td>0</td>\n",
              "      <td>0</td>\n",
              "      <td>0</td>\n",
              "      <td>0</td>\n",
              "      <td>6</td>\n",
              "      <td>0</td>\n",
              "      <td>0</td>\n",
              "      <td>0</td>\n",
              "      <td>...</td>\n",
              "      <td>0</td>\n",
              "      <td>0</td>\n",
              "      <td>0</td>\n",
              "      <td>26</td>\n",
              "      <td>0</td>\n",
              "      <td>0</td>\n",
              "      <td>0</td>\n",
              "      <td>0</td>\n",
              "      <td>0</td>\n",
              "      <td>0</td>\n",
              "      <td>2</td>\n",
              "      <td>0</td>\n",
              "      <td>0</td>\n",
              "      <td>0</td>\n",
              "      <td>0</td>\n",
              "      <td>0</td>\n",
              "      <td>0</td>\n",
              "      <td>4</td>\n",
              "      <td>0</td>\n",
              "      <td>0</td>\n",
              "      <td>0</td>\n",
              "      <td>0</td>\n",
              "      <td>0</td>\n",
              "      <td>2</td>\n",
              "      <td>0</td>\n",
              "      <td>0</td>\n",
              "      <td>2</td>\n",
              "      <td>1</td>\n",
              "      <td>18</td>\n",
              "      <td>1</td>\n",
              "      <td>0</td>\n",
              "      <td>2</td>\n",
              "      <td>1</td>\n",
              "      <td>1</td>\n",
              "      <td>0</td>\n",
              "      <td>2</td>\n",
              "      <td>2</td>\n",
              "      <td>2</td>\n",
              "      <td>0</td>\n",
              "      <td>0</td>\n",
              "    </tr>\n",
              "  </tbody>\n",
              "</table>\n",
              "<p>5 rows × 10512 columns</p>\n",
              "</div>"
            ],
            "text/plain": [
              "   Abel  Abraham  Adam  Afryka  Al  ...  żądać  żądza  żądło  żłopają  żłopać\n",
              "0     1        1     0       0   0  ...      2      1      0        0       0\n",
              "1     0        0     0       0   0  ...      0      1      0        0       0\n",
              "2     0        1     2       0   0  ...      6      1      0        0       0\n",
              "3     0        0     0       0   1  ...      1      1      0        1       1\n",
              "4     0        0     3       1   0  ...      2      2      2        0       0\n",
              "\n",
              "[5 rows x 10512 columns]"
            ]
          },
          "metadata": {},
          "execution_count": 24
        }
      ]
    },
    {
      "cell_type": "markdown",
      "metadata": {
        "id": "U0AAeOx5Kvf4"
      },
      "source": [
        "#Przekształcenie macierzy liczby tokenów w <b>znormalizowaną</b> reprezenrtację TF-IDF - <b>TfidfTransformer()</b>"
      ]
    },
    {
      "cell_type": "code",
      "metadata": {
        "id": "t_60ymWJM2zo"
      },
      "source": [
        "tfidf_vectorizer = TfidfTransformer()"
      ],
      "execution_count": null,
      "outputs": []
    },
    {
      "cell_type": "code",
      "metadata": {
        "colab": {
          "base_uri": "https://localhost:8080/",
          "height": 253
        },
        "id": "OQxvsnNoSCP0",
        "outputId": "5f2ec26d-e9d9-41cb-9ba8-a1bc7ec8d082"
      },
      "source": [
        "TF_Idf = tfidf_vectorizer.fit_transform(freq_matrix_end.toarray())\n",
        "\n",
        "ifidf_vect = pd.DataFrame(data = TF_Idf.toarray(), columns=countVectorizer.get_feature_names())\n",
        "ifidf_vect"
      ],
      "execution_count": null,
      "outputs": [
        {
          "output_type": "execute_result",
          "data": {
            "text/html": [
              "<div>\n",
              "<style scoped>\n",
              "    .dataframe tbody tr th:only-of-type {\n",
              "        vertical-align: middle;\n",
              "    }\n",
              "\n",
              "    .dataframe tbody tr th {\n",
              "        vertical-align: top;\n",
              "    }\n",
              "\n",
              "    .dataframe thead th {\n",
              "        text-align: right;\n",
              "    }\n",
              "</style>\n",
              "<table border=\"1\" class=\"dataframe\">\n",
              "  <thead>\n",
              "    <tr style=\"text-align: right;\">\n",
              "      <th></th>\n",
              "      <th>Abel</th>\n",
              "      <th>Abraham</th>\n",
              "      <th>Adam</th>\n",
              "      <th>Afryka</th>\n",
              "      <th>Al</th>\n",
              "      <th>Aleksander</th>\n",
              "      <th>Aleksandra</th>\n",
              "      <th>Allan</th>\n",
              "      <th>Anda</th>\n",
              "      <th>Anna</th>\n",
              "      <th>Ante</th>\n",
              "      <th>Antoniusz</th>\n",
              "      <th>Art</th>\n",
              "      <th>BN</th>\n",
              "      <th>Balladyna</th>\n",
              "      <th>Baltazar</th>\n",
              "      <th>Baszkir</th>\n",
              "      <th>Beda</th>\n",
              "      <th>Bella</th>\n",
              "      <th>Berno</th>\n",
              "      <th>Białe</th>\n",
              "      <th>Biega</th>\n",
              "      <th>Blanc</th>\n",
              "      <th>Bob</th>\n",
              "      <th>Bogarodzica</th>\n",
              "      <th>Bolesław</th>\n",
              "      <th>Bonaparte</th>\n",
              "      <th>Boże</th>\n",
              "      <th>Branecki</th>\n",
              "      <th>Brutus</th>\n",
              "      <th>Błażek</th>\n",
              "      <th>CAF</th>\n",
              "      <th>Cała</th>\n",
              "      <th>Charles</th>\n",
              "      <th>Chopin</th>\n",
              "      <th>Choromańska</th>\n",
              "      <th>Chrystus</th>\n",
              "      <th>Ciężkie</th>\n",
              "      <th>Crusoe</th>\n",
              "      <th>Cyla</th>\n",
              "      <th>...</th>\n",
              "      <th>żurawiec</th>\n",
              "      <th>żuć</th>\n",
              "      <th>żwir</th>\n",
              "      <th>życie</th>\n",
              "      <th>życiowy</th>\n",
              "      <th>życzenie</th>\n",
              "      <th>życzliwie</th>\n",
              "      <th>życzliwość</th>\n",
              "      <th>życzliwy</th>\n",
              "      <th>życzyć</th>\n",
              "      <th>żyd</th>\n",
              "      <th>żydowski</th>\n",
              "      <th>żyjący</th>\n",
              "      <th>żyrdź</th>\n",
              "      <th>żyto</th>\n",
              "      <th>żywie</th>\n",
              "      <th>żywiec</th>\n",
              "      <th>żywioł</th>\n",
              "      <th>żywiuteńki</th>\n",
              "      <th>żywić</th>\n",
              "      <th>żywnie</th>\n",
              "      <th>żywność</th>\n",
              "      <th>żywo</th>\n",
              "      <th>żywot</th>\n",
              "      <th>żywotny</th>\n",
              "      <th>żywość</th>\n",
              "      <th>żywy</th>\n",
              "      <th>żyzny</th>\n",
              "      <th>żyć</th>\n",
              "      <th>żyźnić</th>\n",
              "      <th>żółtawo</th>\n",
              "      <th>żółty</th>\n",
              "      <th>żółw</th>\n",
              "      <th>żółć</th>\n",
              "      <th>żądanie</th>\n",
              "      <th>żądać</th>\n",
              "      <th>żądza</th>\n",
              "      <th>żądło</th>\n",
              "      <th>żłopają</th>\n",
              "      <th>żłopać</th>\n",
              "    </tr>\n",
              "  </thead>\n",
              "  <tbody>\n",
              "    <tr>\n",
              "      <th>0</th>\n",
              "      <td>0.002365</td>\n",
              "      <td>0.001908</td>\n",
              "      <td>0.000000</td>\n",
              "      <td>0.000000</td>\n",
              "      <td>0.000000</td>\n",
              "      <td>0.000000</td>\n",
              "      <td>0.001127</td>\n",
              "      <td>0.000000</td>\n",
              "      <td>0.002365</td>\n",
              "      <td>0.000000</td>\n",
              "      <td>0.000000</td>\n",
              "      <td>0.000000</td>\n",
              "      <td>0.002365</td>\n",
              "      <td>0.000000</td>\n",
              "      <td>0.000000</td>\n",
              "      <td>0.001908</td>\n",
              "      <td>0.000000</td>\n",
              "      <td>0.000000</td>\n",
              "      <td>0.002365</td>\n",
              "      <td>0.000000</td>\n",
              "      <td>0.000000</td>\n",
              "      <td>0.000000</td>\n",
              "      <td>0.000000</td>\n",
              "      <td>0.101714</td>\n",
              "      <td>0.000000</td>\n",
              "      <td>0.000000</td>\n",
              "      <td>0.000000</td>\n",
              "      <td>0.000000</td>\n",
              "      <td>0.000000</td>\n",
              "      <td>0.000000</td>\n",
              "      <td>0.000000</td>\n",
              "      <td>0.000000</td>\n",
              "      <td>0.000000</td>\n",
              "      <td>0.004731</td>\n",
              "      <td>0.000000</td>\n",
              "      <td>0.002365</td>\n",
              "      <td>0.000000</td>\n",
              "      <td>0.000000</td>\n",
              "      <td>0.004731</td>\n",
              "      <td>0.000000</td>\n",
              "      <td>...</td>\n",
              "      <td>0.000000</td>\n",
              "      <td>0.000000</td>\n",
              "      <td>0.000000</td>\n",
              "      <td>0.048467</td>\n",
              "      <td>0.001908</td>\n",
              "      <td>0.015267</td>\n",
              "      <td>0.004731</td>\n",
              "      <td>0.002365</td>\n",
              "      <td>0.004731</td>\n",
              "      <td>0.026931</td>\n",
              "      <td>0.000000</td>\n",
              "      <td>0.000000</td>\n",
              "      <td>0.001908</td>\n",
              "      <td>0.000000</td>\n",
              "      <td>0.000000</td>\n",
              "      <td>0.000000</td>\n",
              "      <td>0.000000</td>\n",
              "      <td>0.000000</td>\n",
              "      <td>0.002365</td>\n",
              "      <td>0.001908</td>\n",
              "      <td>0.002365</td>\n",
              "      <td>0.000000</td>\n",
              "      <td>0.005725</td>\n",
              "      <td>0.000000</td>\n",
              "      <td>0.000000</td>\n",
              "      <td>0.002365</td>\n",
              "      <td>0.002254</td>\n",
              "      <td>0.000000</td>\n",
              "      <td>0.012399</td>\n",
              "      <td>0.000000</td>\n",
              "      <td>0.000000</td>\n",
              "      <td>0.003168</td>\n",
              "      <td>0.000000</td>\n",
              "      <td>0.000000</td>\n",
              "      <td>0.004731</td>\n",
              "      <td>0.002665</td>\n",
              "      <td>0.001127</td>\n",
              "      <td>0.000000</td>\n",
              "      <td>0.000000</td>\n",
              "      <td>0.000000</td>\n",
              "    </tr>\n",
              "    <tr>\n",
              "      <th>1</th>\n",
              "      <td>0.000000</td>\n",
              "      <td>0.000000</td>\n",
              "      <td>0.000000</td>\n",
              "      <td>0.000000</td>\n",
              "      <td>0.000000</td>\n",
              "      <td>0.000000</td>\n",
              "      <td>0.004187</td>\n",
              "      <td>0.017573</td>\n",
              "      <td>0.000000</td>\n",
              "      <td>0.000000</td>\n",
              "      <td>0.000000</td>\n",
              "      <td>0.000000</td>\n",
              "      <td>0.000000</td>\n",
              "      <td>0.004950</td>\n",
              "      <td>0.000000</td>\n",
              "      <td>0.000000</td>\n",
              "      <td>0.000000</td>\n",
              "      <td>0.000000</td>\n",
              "      <td>0.000000</td>\n",
              "      <td>0.000000</td>\n",
              "      <td>0.000000</td>\n",
              "      <td>0.000000</td>\n",
              "      <td>0.000000</td>\n",
              "      <td>0.000000</td>\n",
              "      <td>0.000000</td>\n",
              "      <td>0.008786</td>\n",
              "      <td>0.000000</td>\n",
              "      <td>0.000000</td>\n",
              "      <td>0.000000</td>\n",
              "      <td>0.000000</td>\n",
              "      <td>0.000000</td>\n",
              "      <td>0.000000</td>\n",
              "      <td>0.000000</td>\n",
              "      <td>0.000000</td>\n",
              "      <td>0.000000</td>\n",
              "      <td>0.000000</td>\n",
              "      <td>0.000000</td>\n",
              "      <td>0.000000</td>\n",
              "      <td>0.000000</td>\n",
              "      <td>0.000000</td>\n",
              "      <td>...</td>\n",
              "      <td>0.000000</td>\n",
              "      <td>0.000000</td>\n",
              "      <td>0.000000</td>\n",
              "      <td>0.008373</td>\n",
              "      <td>0.007089</td>\n",
              "      <td>0.000000</td>\n",
              "      <td>0.000000</td>\n",
              "      <td>0.000000</td>\n",
              "      <td>0.000000</td>\n",
              "      <td>0.000000</td>\n",
              "      <td>0.000000</td>\n",
              "      <td>0.000000</td>\n",
              "      <td>0.000000</td>\n",
              "      <td>0.000000</td>\n",
              "      <td>0.000000</td>\n",
              "      <td>0.000000</td>\n",
              "      <td>0.007089</td>\n",
              "      <td>0.000000</td>\n",
              "      <td>0.000000</td>\n",
              "      <td>0.000000</td>\n",
              "      <td>0.000000</td>\n",
              "      <td>0.000000</td>\n",
              "      <td>0.000000</td>\n",
              "      <td>0.000000</td>\n",
              "      <td>0.007089</td>\n",
              "      <td>0.000000</td>\n",
              "      <td>0.004187</td>\n",
              "      <td>0.000000</td>\n",
              "      <td>0.004187</td>\n",
              "      <td>0.000000</td>\n",
              "      <td>0.000000</td>\n",
              "      <td>0.000000</td>\n",
              "      <td>0.000000</td>\n",
              "      <td>0.000000</td>\n",
              "      <td>0.000000</td>\n",
              "      <td>0.000000</td>\n",
              "      <td>0.004187</td>\n",
              "      <td>0.000000</td>\n",
              "      <td>0.000000</td>\n",
              "      <td>0.000000</td>\n",
              "    </tr>\n",
              "    <tr>\n",
              "      <th>2</th>\n",
              "      <td>0.000000</td>\n",
              "      <td>0.002640</td>\n",
              "      <td>0.005281</td>\n",
              "      <td>0.000000</td>\n",
              "      <td>0.000000</td>\n",
              "      <td>0.006546</td>\n",
              "      <td>0.001560</td>\n",
              "      <td>0.000000</td>\n",
              "      <td>0.000000</td>\n",
              "      <td>0.000000</td>\n",
              "      <td>0.000000</td>\n",
              "      <td>0.000000</td>\n",
              "      <td>0.000000</td>\n",
              "      <td>0.001844</td>\n",
              "      <td>0.000000</td>\n",
              "      <td>0.000000</td>\n",
              "      <td>0.000000</td>\n",
              "      <td>0.000000</td>\n",
              "      <td>0.000000</td>\n",
              "      <td>0.000000</td>\n",
              "      <td>0.000000</td>\n",
              "      <td>0.000000</td>\n",
              "      <td>0.000000</td>\n",
              "      <td>0.000000</td>\n",
              "      <td>0.005281</td>\n",
              "      <td>0.000000</td>\n",
              "      <td>0.000000</td>\n",
              "      <td>0.000000</td>\n",
              "      <td>0.000000</td>\n",
              "      <td>0.003273</td>\n",
              "      <td>0.000000</td>\n",
              "      <td>0.000000</td>\n",
              "      <td>0.000000</td>\n",
              "      <td>0.000000</td>\n",
              "      <td>0.000000</td>\n",
              "      <td>0.000000</td>\n",
              "      <td>0.013202</td>\n",
              "      <td>0.000000</td>\n",
              "      <td>0.000000</td>\n",
              "      <td>0.000000</td>\n",
              "      <td>...</td>\n",
              "      <td>0.000000</td>\n",
              "      <td>0.000000</td>\n",
              "      <td>0.003273</td>\n",
              "      <td>0.037428</td>\n",
              "      <td>0.000000</td>\n",
              "      <td>0.005281</td>\n",
              "      <td>0.000000</td>\n",
              "      <td>0.000000</td>\n",
              "      <td>0.000000</td>\n",
              "      <td>0.006575</td>\n",
              "      <td>0.010959</td>\n",
              "      <td>0.000000</td>\n",
              "      <td>0.002640</td>\n",
              "      <td>0.000000</td>\n",
              "      <td>0.000000</td>\n",
              "      <td>0.000000</td>\n",
              "      <td>0.002640</td>\n",
              "      <td>0.000000</td>\n",
              "      <td>0.000000</td>\n",
              "      <td>0.000000</td>\n",
              "      <td>0.000000</td>\n",
              "      <td>0.003273</td>\n",
              "      <td>0.000000</td>\n",
              "      <td>0.000000</td>\n",
              "      <td>0.002640</td>\n",
              "      <td>0.000000</td>\n",
              "      <td>0.009357</td>\n",
              "      <td>0.000000</td>\n",
              "      <td>0.046785</td>\n",
              "      <td>0.000000</td>\n",
              "      <td>0.003273</td>\n",
              "      <td>0.002192</td>\n",
              "      <td>0.000000</td>\n",
              "      <td>0.000000</td>\n",
              "      <td>0.000000</td>\n",
              "      <td>0.011063</td>\n",
              "      <td>0.001560</td>\n",
              "      <td>0.000000</td>\n",
              "      <td>0.000000</td>\n",
              "      <td>0.000000</td>\n",
              "    </tr>\n",
              "    <tr>\n",
              "      <th>3</th>\n",
              "      <td>0.000000</td>\n",
              "      <td>0.000000</td>\n",
              "      <td>0.000000</td>\n",
              "      <td>0.000000</td>\n",
              "      <td>0.002111</td>\n",
              "      <td>0.000000</td>\n",
              "      <td>0.001006</td>\n",
              "      <td>0.000000</td>\n",
              "      <td>0.000000</td>\n",
              "      <td>0.000000</td>\n",
              "      <td>0.002111</td>\n",
              "      <td>0.000000</td>\n",
              "      <td>0.000000</td>\n",
              "      <td>0.001190</td>\n",
              "      <td>0.000000</td>\n",
              "      <td>0.000000</td>\n",
              "      <td>0.000000</td>\n",
              "      <td>0.004223</td>\n",
              "      <td>0.000000</td>\n",
              "      <td>0.002111</td>\n",
              "      <td>0.000000</td>\n",
              "      <td>0.002111</td>\n",
              "      <td>0.000000</td>\n",
              "      <td>0.000000</td>\n",
              "      <td>0.001704</td>\n",
              "      <td>0.000000</td>\n",
              "      <td>0.002111</td>\n",
              "      <td>0.002111</td>\n",
              "      <td>0.006334</td>\n",
              "      <td>0.000000</td>\n",
              "      <td>0.002111</td>\n",
              "      <td>0.002111</td>\n",
              "      <td>0.002111</td>\n",
              "      <td>0.000000</td>\n",
              "      <td>0.002111</td>\n",
              "      <td>0.000000</td>\n",
              "      <td>0.000000</td>\n",
              "      <td>0.002111</td>\n",
              "      <td>0.000000</td>\n",
              "      <td>0.004223</td>\n",
              "      <td>...</td>\n",
              "      <td>0.004223</td>\n",
              "      <td>0.002111</td>\n",
              "      <td>0.000000</td>\n",
              "      <td>0.006037</td>\n",
              "      <td>0.000000</td>\n",
              "      <td>0.000000</td>\n",
              "      <td>0.000000</td>\n",
              "      <td>0.000000</td>\n",
              "      <td>0.000000</td>\n",
              "      <td>0.004242</td>\n",
              "      <td>0.070703</td>\n",
              "      <td>0.002111</td>\n",
              "      <td>0.000000</td>\n",
              "      <td>0.002111</td>\n",
              "      <td>0.002111</td>\n",
              "      <td>0.004223</td>\n",
              "      <td>0.000000</td>\n",
              "      <td>0.000000</td>\n",
              "      <td>0.000000</td>\n",
              "      <td>0.001704</td>\n",
              "      <td>0.000000</td>\n",
              "      <td>0.000000</td>\n",
              "      <td>0.010221</td>\n",
              "      <td>0.000000</td>\n",
              "      <td>0.000000</td>\n",
              "      <td>0.000000</td>\n",
              "      <td>0.014086</td>\n",
              "      <td>0.000000</td>\n",
              "      <td>0.017104</td>\n",
              "      <td>0.000000</td>\n",
              "      <td>0.000000</td>\n",
              "      <td>0.000000</td>\n",
              "      <td>0.000000</td>\n",
              "      <td>0.000000</td>\n",
              "      <td>0.000000</td>\n",
              "      <td>0.001190</td>\n",
              "      <td>0.001006</td>\n",
              "      <td>0.000000</td>\n",
              "      <td>0.002111</td>\n",
              "      <td>0.002111</td>\n",
              "    </tr>\n",
              "    <tr>\n",
              "      <th>4</th>\n",
              "      <td>0.000000</td>\n",
              "      <td>0.000000</td>\n",
              "      <td>0.006848</td>\n",
              "      <td>0.002829</td>\n",
              "      <td>0.000000</td>\n",
              "      <td>0.000000</td>\n",
              "      <td>0.001348</td>\n",
              "      <td>0.000000</td>\n",
              "      <td>0.000000</td>\n",
              "      <td>0.002829</td>\n",
              "      <td>0.000000</td>\n",
              "      <td>0.002829</td>\n",
              "      <td>0.000000</td>\n",
              "      <td>0.001594</td>\n",
              "      <td>0.002829</td>\n",
              "      <td>0.002283</td>\n",
              "      <td>0.011316</td>\n",
              "      <td>0.000000</td>\n",
              "      <td>0.000000</td>\n",
              "      <td>0.000000</td>\n",
              "      <td>0.002829</td>\n",
              "      <td>0.000000</td>\n",
              "      <td>0.002829</td>\n",
              "      <td>0.000000</td>\n",
              "      <td>0.000000</td>\n",
              "      <td>0.000000</td>\n",
              "      <td>0.000000</td>\n",
              "      <td>0.000000</td>\n",
              "      <td>0.000000</td>\n",
              "      <td>0.000000</td>\n",
              "      <td>0.000000</td>\n",
              "      <td>0.000000</td>\n",
              "      <td>0.000000</td>\n",
              "      <td>0.000000</td>\n",
              "      <td>0.000000</td>\n",
              "      <td>0.000000</td>\n",
              "      <td>0.013695</td>\n",
              "      <td>0.000000</td>\n",
              "      <td>0.000000</td>\n",
              "      <td>0.000000</td>\n",
              "      <td>...</td>\n",
              "      <td>0.000000</td>\n",
              "      <td>0.000000</td>\n",
              "      <td>0.000000</td>\n",
              "      <td>0.035050</td>\n",
              "      <td>0.000000</td>\n",
              "      <td>0.000000</td>\n",
              "      <td>0.000000</td>\n",
              "      <td>0.000000</td>\n",
              "      <td>0.000000</td>\n",
              "      <td>0.000000</td>\n",
              "      <td>0.003789</td>\n",
              "      <td>0.000000</td>\n",
              "      <td>0.000000</td>\n",
              "      <td>0.000000</td>\n",
              "      <td>0.000000</td>\n",
              "      <td>0.000000</td>\n",
              "      <td>0.000000</td>\n",
              "      <td>0.011316</td>\n",
              "      <td>0.000000</td>\n",
              "      <td>0.000000</td>\n",
              "      <td>0.000000</td>\n",
              "      <td>0.000000</td>\n",
              "      <td>0.000000</td>\n",
              "      <td>0.005658</td>\n",
              "      <td>0.000000</td>\n",
              "      <td>0.000000</td>\n",
              "      <td>0.002696</td>\n",
              "      <td>0.002829</td>\n",
              "      <td>0.024265</td>\n",
              "      <td>0.002829</td>\n",
              "      <td>0.000000</td>\n",
              "      <td>0.003789</td>\n",
              "      <td>0.002829</td>\n",
              "      <td>0.002829</td>\n",
              "      <td>0.000000</td>\n",
              "      <td>0.003188</td>\n",
              "      <td>0.002696</td>\n",
              "      <td>0.005658</td>\n",
              "      <td>0.000000</td>\n",
              "      <td>0.000000</td>\n",
              "    </tr>\n",
              "  </tbody>\n",
              "</table>\n",
              "<p>5 rows × 10512 columns</p>\n",
              "</div>"
            ],
            "text/plain": [
              "       Abel   Abraham      Adam  ...     żądło   żłopają    żłopać\n",
              "0  0.002365  0.001908  0.000000  ...  0.000000  0.000000  0.000000\n",
              "1  0.000000  0.000000  0.000000  ...  0.000000  0.000000  0.000000\n",
              "2  0.000000  0.002640  0.005281  ...  0.000000  0.000000  0.000000\n",
              "3  0.000000  0.000000  0.000000  ...  0.000000  0.002111  0.002111\n",
              "4  0.000000  0.000000  0.006848  ...  0.005658  0.000000  0.000000\n",
              "\n",
              "[5 rows x 10512 columns]"
            ]
          },
          "metadata": {},
          "execution_count": 26
        }
      ]
    },
    {
      "cell_type": "code",
      "metadata": {
        "colab": {
          "base_uri": "https://localhost:8080/",
          "height": 204
        },
        "id": "klhom4xC1mux",
        "outputId": "9a5c6942-b276-4c41-d1d5-d2d77b970a25"
      },
      "source": [
        "cosine_similarities = np.asarray([linear_kernel(i[0], TF_Idf)[0] for i in TF_Idf])\n",
        "\n",
        "label = [f'Dock: {i}'for i in range(0,cosine_similarities.shape[0]  )]\n",
        "cosine_similarities\n",
        "pd.DataFrame(data=cosine_similarities, index=label, columns=label)"
      ],
      "execution_count": null,
      "outputs": [
        {
          "output_type": "execute_result",
          "data": {
            "text/html": [
              "<div>\n",
              "<style scoped>\n",
              "    .dataframe tbody tr th:only-of-type {\n",
              "        vertical-align: middle;\n",
              "    }\n",
              "\n",
              "    .dataframe tbody tr th {\n",
              "        vertical-align: top;\n",
              "    }\n",
              "\n",
              "    .dataframe thead th {\n",
              "        text-align: right;\n",
              "    }\n",
              "</style>\n",
              "<table border=\"1\" class=\"dataframe\">\n",
              "  <thead>\n",
              "    <tr style=\"text-align: right;\">\n",
              "      <th></th>\n",
              "      <th>Dock: 0</th>\n",
              "      <th>Dock: 1</th>\n",
              "      <th>Dock: 2</th>\n",
              "      <th>Dock: 3</th>\n",
              "      <th>Dock: 4</th>\n",
              "    </tr>\n",
              "  </thead>\n",
              "  <tbody>\n",
              "    <tr>\n",
              "      <th>Dock: 0</th>\n",
              "      <td>1.000000</td>\n",
              "      <td>0.388184</td>\n",
              "      <td>0.305120</td>\n",
              "      <td>0.225346</td>\n",
              "      <td>0.267719</td>\n",
              "    </tr>\n",
              "    <tr>\n",
              "      <th>Dock: 1</th>\n",
              "      <td>0.388184</td>\n",
              "      <td>1.000000</td>\n",
              "      <td>0.413133</td>\n",
              "      <td>0.318952</td>\n",
              "      <td>0.372903</td>\n",
              "    </tr>\n",
              "    <tr>\n",
              "      <th>Dock: 2</th>\n",
              "      <td>0.305120</td>\n",
              "      <td>0.413133</td>\n",
              "      <td>1.000000</td>\n",
              "      <td>0.293066</td>\n",
              "      <td>0.376485</td>\n",
              "    </tr>\n",
              "    <tr>\n",
              "      <th>Dock: 3</th>\n",
              "      <td>0.225346</td>\n",
              "      <td>0.318952</td>\n",
              "      <td>0.293066</td>\n",
              "      <td>1.000000</td>\n",
              "      <td>0.272145</td>\n",
              "    </tr>\n",
              "    <tr>\n",
              "      <th>Dock: 4</th>\n",
              "      <td>0.267719</td>\n",
              "      <td>0.372903</td>\n",
              "      <td>0.376485</td>\n",
              "      <td>0.272145</td>\n",
              "      <td>1.000000</td>\n",
              "    </tr>\n",
              "  </tbody>\n",
              "</table>\n",
              "</div>"
            ],
            "text/plain": [
              "          Dock: 0   Dock: 1   Dock: 2   Dock: 3   Dock: 4\n",
              "Dock: 0  1.000000  0.388184  0.305120  0.225346  0.267719\n",
              "Dock: 1  0.388184  1.000000  0.413133  0.318952  0.372903\n",
              "Dock: 2  0.305120  0.413133  1.000000  0.293066  0.376485\n",
              "Dock: 3  0.225346  0.318952  0.293066  1.000000  0.272145\n",
              "Dock: 4  0.267719  0.372903  0.376485  0.272145  1.000000"
            ]
          },
          "metadata": {},
          "execution_count": 27
        }
      ]
    },
    {
      "cell_type": "markdown",
      "metadata": {
        "id": "tfVtYUSMcaix"
      },
      "source": [
        "Komentarz: Analizując powyższą tabele przed dokonaniem redukcji wymiarowości możemy zauważyć, że:\n",
        "* **Największe** podobieństwo występuje w przypadku pozycji **1 oraz 2**\n",
        "* **Najmniejsze** podobieństwo występuje w przypadku pozycji **0 oraz 3**"
      ]
    },
    {
      "cell_type": "markdown",
      "metadata": {
        "id": "tHFM_e4BL4z4"
      },
      "source": [
        "#Przeprowadzenie <b>redukcji wymiarowości</b> wymiarów macierzy TF-IDF do 2 wymiarów oraz wizualizacja położenia w układzie XY"
      ]
    },
    {
      "cell_type": "code",
      "metadata": {
        "colab": {
          "base_uri": "https://localhost:8080/",
          "height": 265
        },
        "id": "BHVSmZXy5wPO",
        "outputId": "7ecb9b73-c686-48a9-e370-498153a77fc3"
      },
      "source": [
        "pca = PCA(n_components=2,svd_solver='full')\n",
        "pca.fit(TF_Idf.toarray())\n",
        "X = pca.transform(TF_Idf.toarray())\n",
        "\n",
        "origin = np.array([[0,0,0,0,0],[0,0,0,0,0]])\n",
        "colors= ['pink','purple','cyan', 'gold','silver']\n",
        "\n",
        "q = plt.quiver(*origin,X[:,0],X[:,1],color=colors, scale=3)\n",
        "for i in range(X.shape[0]):\n",
        "  plt.quiverkey(q,0.1 , 0.9 - i* 0.1 , 0.2,label='Document: ' + str(i), color=colors[i],labelpos='E') \n"
      ],
      "execution_count": null,
      "outputs": [
        {
          "output_type": "display_data",
          "data": {
            "image/png": "[encoded data removed]",
            "text/plain": [
              "<Figure size 432x288 with 1 Axes>"
            ]
          },
          "metadata": {
            "needs_background": "light"
          }
        }
      ]
    },
    {
      "cell_type": "markdown",
      "metadata": {
        "id": "h2nRQM3YawwV"
      },
      "source": [
        "**Komentarz**: Na podstawie powyższego wykresu mogę wyciągnąć kilka wniosków\n",
        "* **Najmniejszy kąt** występuję pomiędzy dokumentem **1 i dokumentem 2**\n",
        "* Co ciekawe książki te to \"Nie boska komedia\" oraz \"Zaglada domu Usherow\" które zostały wydane w bardzo zbliżonym czasie - różni je zaledwie 4 lata.\n",
        "* **Największy kąt** to ten pomiędzy dokumentem **3 oraz 0.**\n",
        "* Powyższa wizualiazcja potwierdziła wyniki uzyskane w tabeli podobieństwa przed redukcją wymiarowości - wyniki są spójne."
      ]
    }
  ]
}